{
 "cells": [
  {
   "cell_type": "code",
   "execution_count": 136,
   "metadata": {
    "collapsed": false
   },
   "outputs": [],
   "source": [
    "%matplotlib inline\n",
    "import json\n",
    "import numpy as np\n",
    "import os.path as path\n",
    "import matplotlib.pyplot as plt\n",
    "import matplotlib.cm as cm\n",
    "from salicon.salicon import SALICON"
   ]
  },
  {
   "cell_type": "code",
   "execution_count": 133,
   "metadata": {
    "collapsed": false
   },
   "outputs": [],
   "source": [
    "class FakeSalPredictor:\n",
    "    \n",
    "    def __init__(self,annFile,imageDir):\n",
    "        \"\"\"\n",
    "        Construcor of Fake Saliency Preditor. \n",
    "        just produced half white half black image \n",
    "        \"\"\"\n",
    "        self.salicon = SALICON(annFile)\n",
    "        self.imageDir = imageDir\n",
    "        self.result = {}\n",
    "        self.images = self.salicon.imgs\n",
    "        \n",
    "    def predict(self,imgFile,size):\n",
    "        height,width = size\n",
    "        first=np.ones((int(height/2),width))\n",
    "        #second=np.zeros((width,(height - int(height/2))))\n",
    "        second = np.empty(((height - int(height/2),width)))\n",
    "        second.fill(0.5)\n",
    "        out=np.concatenate((first,second),axis=0)\n",
    "        return out\n",
    "        #print imgFile\n",
    "        #print out.shape\n",
    "        \n",
    "    def predictAll(self):\n",
    "        for id,img in self.images.items():\n",
    "            imgFile = path.join(self.imageDir,img['file_name'])\n",
    "            self.result[id] = self.predict(imgFile,(img['height'],img['width']))\n",
    "      \n",
    "    def dumpRslt(self,outfile):\n",
    "        anns = [{u'image_id':image_id,'saliency_map':res.tolist()} for image_id,res in self.result.items()]\n",
    "        with open(outfile, 'w') as fp:\n",
    "            json.dump(anns, fp)\n",
    "    def getImageIds(self):\n",
    "        return self.images.keys()\n",
    "    \n",
    "    def showPrediction(self,image_id):\n",
    "        prediction = self.result[image_id]\n",
    "        plt.imshow(prediction,cm.Greys_r,vmin = 0, vmax = 1)\n",
    "        pass"
   ]
  },
  {
   "cell_type": "code",
   "execution_count": 137,
   "metadata": {
    "collapsed": false
   },
   "outputs": [
    {
     "name": "stdout",
     "output_type": "stream",
     "text": [
      "loading annotations into memory...\n",
      "0:00:00.336345\n",
      "creating index...\n",
      "index created!\n",
      "[102625, 101189, 109441, 106920, 108425, 104589, 105711, 106392, 100083, 102904]\n"
     ]
    },
    {
     "data": {
      "image/png": "[encoded data removed]",
      "text/plain": [
       "<matplotlib.figure.Figure at 0x7f30e0c07590>"
      ]
     },
     "metadata": {},
     "output_type": "display_data"
    }
   ],
   "source": [
    "if __name__ == \"__main__\":\n",
    "    sp = FakeSalPredictor('./annotations/fixations_val2014_examples.json','./images/examples')\n",
    "    sp.predictAll()\n",
    "    print sp.getImageIds()\n",
    "    sp.showPrediction(102625)\n",
    "    sp.dumpRslt('./results/salmaps_val2014_fake_results.json')"
   ]
  },
  {
   "cell_type": "code",
   "execution_count": null,
   "metadata": {
    "collapsed": true
   },
   "outputs": [],
   "source": []
  }
 ],
 "metadata": {
  "kernelspec": {
   "display_name": "Python 2",
   "language": "python",
   "name": "python2"
  },
  "language_info": {
   "codemirror_mode": {
    "name": "ipython",
    "version": 2
   },
   "file_extension": ".py",
   "mimetype": "text/x-python",
   "name": "python",
   "nbconvert_exporter": "python",
   "pygments_lexer": "ipython2",
   "version": "2.7.6"
  }
 },
 "nbformat": 4,
 "nbformat_minor": 0
}
